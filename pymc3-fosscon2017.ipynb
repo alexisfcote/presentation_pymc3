{
 "cells": [
  {
   "cell_type": "markdown",
   "metadata": {
    "slideshow": {
     "slide_type": "skip"
    }
   },
   "source": [
    "A Dockerfile that will produce a container with all the dependencies necessary to run this notebook is available [here](https://github.com/AustinRochford/notebooks)."
   ]
  },
  {
   "cell_type": "code",
   "execution_count": 1,
   "metadata": {
    "collapsed": true,
    "slideshow": {
     "slide_type": "skip"
    }
   },
   "outputs": [],
   "source": [
    "%matplotlib inline"
   ]
  },
  {
   "cell_type": "code",
   "execution_count": 2,
   "metadata": {
    "collapsed": true,
    "slideshow": {
     "slide_type": "skip"
    }
   },
   "outputs": [],
   "source": [
    "from warnings import filterwarnings"
   ]
  },
  {
   "cell_type": "code",
   "execution_count": 3,
   "metadata": {
    "collapsed": true,
    "slideshow": {
     "slide_type": "skip"
    }
   },
   "outputs": [],
   "source": [
    "from matplotlib import pyplot as plt\n",
    "from matplotlib.ticker import StrMethodFormatter\n",
    "import numpy as np\n",
    "import seaborn as sns"
   ]
  },
  {
   "cell_type": "code",
   "execution_count": 4,
   "metadata": {
    "collapsed": true,
    "slideshow": {
     "slide_type": "skip"
    }
   },
   "outputs": [],
   "source": [
    "# configure pyplot for readability when rendered as a slideshow and projected\n",
    "plt.rc('figure', figsize=(8, 6))\n",
    "\n",
    "LABELSIZE = 14\n",
    "plt.rc('axes', labelsize=LABELSIZE)\n",
    "plt.rc('axes', titlesize=LABELSIZE)\n",
    "plt.rc('figure', titlesize=LABELSIZE)\n",
    "plt.rc('legend', fontsize=LABELSIZE)\n",
    "plt.rc('xtick', labelsize=LABELSIZE)\n",
    "plt.rc('ytick', labelsize=LABELSIZE)\n",
    "\n",
    "plt.rc('animation', writer='avconv')"
   ]
  },
  {
   "cell_type": "code",
   "execution_count": 5,
   "metadata": {
    "collapsed": true,
    "slideshow": {
     "slide_type": "skip"
    }
   },
   "outputs": [],
   "source": [
    "filterwarnings('ignore', 'findfont')"
   ]
  },
  {
   "cell_type": "code",
   "execution_count": 6,
   "metadata": {
    "collapsed": true,
    "slideshow": {
     "slide_type": "skip"
    }
   },
   "outputs": [],
   "source": [
    "blue, green, red, purple, gold, teal = sns.color_palette()\n",
    "\n",
    "pct_formatter = StrMethodFormatter('{x:.1%}')"
   ]
  },
  {
   "cell_type": "code",
   "execution_count": 7,
   "metadata": {
    "collapsed": true,
    "slideshow": {
     "slide_type": "skip"
    }
   },
   "outputs": [],
   "source": [
    "SEED = 755954 # from random.org, for reproducibility\n",
    "\n",
    "np.random.seed(SEED)"
   ]
  },
  {
   "cell_type": "markdown",
   "metadata": {
    "slideshow": {
     "slide_type": "slide"
    }
   },
   "source": [
    "# Open Source Bayesian Inference in Python with PyMC3\n",
    "\n",
    "<center><img src='https://raw.githubusercontent.com/pymc-devs/pymc3/master/docs/pymc3_logo.jpg'></center>\n",
    "\n",
    "\n",
    "## FOSSCON &#8226; Philadelphia &#8226; August 26, 2017\n",
    "\n",
    "## [@AustinRochford](https://twitter.com/AustinRochford)"
   ]
  },
  {
   "cell_type": "markdown",
   "metadata": {
    "slideshow": {
     "slide_type": "subslide"
    }
   },
   "source": [
    "## Who am I?\n",
    "\n",
    "<center><img src='http://austinrochford.com/resources/img/face_big.png' width=400></center>\n",
    "\n",
    "### [@AustinRochford](https://twitter.com/AustinRochford) &#8226; [arochford@monetate.com](mailto:arochford@monetate.com)\n",
    "\n",
    "### PyMC3 developer &#8226; Principal Data Scientist at [Monetate Labs](http://www.monetate.com/)"
   ]
  },
  {
   "cell_type": "markdown",
   "metadata": {
    "slideshow": {
     "slide_type": "slide"
    }
   },
   "source": [
    "## Bayesian Inference\n",
    "\n",
    "A motivating question:\n",
    "\n",
    "> A rare disease is present in one out of one hundred thousand people.  A test gives the correct diagnosis 99.9% of the time.  What is the probability that a person that tests positive has the disease?"
   ]
  },
  {
   "cell_type": "markdown",
   "metadata": {
    "slideshow": {
     "slide_type": "subslide"
    }
   },
   "source": [
    "### Conditional Probability\n",
    "\n",
    "[_Conditional probability_](https://en.wikipedia.org/wiki/Conditional_probability) is the probability that one event will happen, given that another event has occured."
   ]
  },
  {
   "cell_type": "markdown",
   "metadata": {
    "slideshow": {
     "slide_type": "fragment"
    }
   },
   "source": [
    "$$\n",
    "\\begin{align*}\n",
    "P(A\\ |\\ B)\n",
    "    & = \\textrm{the probability that } A \\textrm{ will happen if we know that } B \\textrm{ has happened} \\\\\n",
    "    & = \\frac{P(A \\textrm{ and } B)}{P(B)}.\n",
    "\\end{align*}\n",
    "$$"
   ]
  },
  {
   "cell_type": "markdown",
   "metadata": {
    "slideshow": {
     "slide_type": "subslide"
    }
   },
   "source": [
    "Our question,\n",
    "\n",
    "> A rare disease is present in one out of one hundred thousand people.  A test gives the correct diagnosis 99.9% of the time.  What is the probability that a person that tests positive has the disease?\n",
    "\n",
    "becomes"
   ]
  },
  {
   "cell_type": "markdown",
   "metadata": {
    "slideshow": {
     "slide_type": "fragment"
    }
   },
   "source": [
    "$$\n",
    "\\begin{align*}\n",
    "    P(+)\n",
    "        & = 10^{-5} \\\\\n",
    "    \\\\\n",
    "    P(\\textrm{Test } +\\ |\\ +)\n",
    "        & = 0.999 \\\\\n",
    "    P(\\textrm{Test } -\\ |\\ -)\n",
    "        & = 0.999 \\\\\n",
    "    \\\\\n",
    "    P(+\\ |\\ \\textrm{Test } +)\n",
    "        & =\\ \\textbf{?}\n",
    "\\end{align*}\n",
    "$$"
   ]
  },
  {
   "cell_type": "markdown",
   "metadata": {
    "slideshow": {
     "slide_type": "subslide"
    }
   },
   "source": [
    "### Bayes' Theorem\n",
    "\n",
    "[Bayes' theorem](https://en.wikipedia.org/wiki/Bayes%27_theorem) shows how to get from $P(B\\ |\\ A)$ to $P(A\\ |\\ B)$.\n",
    "\n",
    "<center><img src='https://upload.wikimedia.org/wikipedia/commons/thumb/1/18/Bayes%27_Theorem_MMB_01.jpg/1200px-Bayes%27_Theorem_MMB_01.jpg' width=400></center>"
   ]
  },
  {
   "cell_type": "markdown",
   "metadata": {
    "slideshow": {
     "slide_type": "skip"
    }
   },
   "source": [
    "The first step below follows from Bayes' theorem, the second step follows from the [law of total probability](https://en.wikipedia.org/wiki/Law_of_total_probability)."
   ]
  },
  {
   "cell_type": "markdown",
   "metadata": {
    "slideshow": {
     "slide_type": "fragment"
    }
   },
   "source": [
    "$$\n",
    "\\begin{align*}\n",
    "    P(+\\ |\\ \\textrm{Test } +)\n",
    "        & = \\frac{P(\\textrm{Test } +\\ |\\ +) P(+)}{P(\\textrm{Test } +)} \\\\\n",
    "        & = \\frac{P(\\textrm{Test } +\\ |\\ +) P(+)}{P(\\textrm{Test } +\\ |\\ +) P(+) + P(\\textrm{Test } +\\ |\\ -) P(-)}\n",
    "\\end{align*}\n",
    "$$"
   ]
  },
  {
   "cell_type": "markdown",
   "metadata": {
    "slideshow": {
     "slide_type": "subslide"
    }
   },
   "source": [
    "$$\n",
    "\\begin{align*}\n",
    "    P(+)\n",
    "        & = 10^{-5} \\\\\n",
    "    P(\\textrm{Test } +\\ |\\ +)\n",
    "        & = 0.999 \\\\\n",
    "    P(\\textrm{Test } -\\ |\\ -)\n",
    "        & = 0.999 \\\\\n",
    "    \\\\\n",
    "    P(+\\ |\\ \\textrm{Test } +)\n",
    "        & = \\frac{P(\\textrm{Test } +\\ |\\ +) P(+)}{P(\\textrm{Test } +\\ |\\ +) P(+) + P(\\textrm{Test } +\\ |\\ -) P(-)} \\\\\n",
    "        & = \\frac{0.999 \\times 10^{-5}}{0.999 \\times 10^{-5} + 0.001 \\times \\left(1 - 10^{-5}\\right)}\n",
    "\\end{align*}\n",
    "$$"
   ]
  },
  {
   "cell_type": "markdown",
   "metadata": {
    "slideshow": {
     "slide_type": "skip"
    }
   },
   "source": [
    "Strikingly, a person that tests positive has a less than 1% chance of actually having the disease!  (Worryingly few doctors get this question right when asked. **CITATION NEEDED**)"
   ]
  },
  {
   "cell_type": "code",
   "execution_count": 8,
   "metadata": {
    "slideshow": {
     "slide_type": "fragment"
    }
   },
   "outputs": [
    {
     "data": {
      "text/plain": [
       "0.009891284975940117"
      ]
     },
     "execution_count": 8,
     "metadata": {},
     "output_type": "execute_result"
    }
   ],
   "source": [
    "0.999 * 1e-5 / (0.999 * 1e-5 + 0.001 * (1 - 1e-5))"
   ]
  },
  {
   "cell_type": "markdown",
   "metadata": {
    "slideshow": {
     "slide_type": "slide"
    }
   },
   "source": [
    "## Probilistic Programming with PyMC3\n",
    "\n",
    "<center><img src='https://raw.githubusercontent.com/pymc-devs/pymc3/master/docs/pymc3_logo.jpg'></center>"
   ]
  },
  {
   "cell_type": "markdown",
   "metadata": {
    "slideshow": {
     "slide_type": "skip"
    }
   },
   "source": [
    "This calculation was tedious to do by hand, and only had a closed form answer because of the simplicity of this situation."
   ]
  },
  {
   "cell_type": "markdown",
   "metadata": {
    "slideshow": {
     "slide_type": "subslide"
    }
   },
   "source": [
    "<center><img src=\"https://automatetheboringstuff.com/images/automate_cover_medium.png\"></center>"
   ]
  },
  {
   "cell_type": "code",
   "execution_count": 9,
   "metadata": {
    "collapsed": true,
    "slideshow": {
     "slide_type": "fragment"
    }
   },
   "outputs": [],
   "source": [
    "import pymc3 as pm\n",
    "\n",
    "with pm.Model() as disease_model:\n",
    "    has_disease = pm.Bernoulli('has_disease', 1e-5)\n",
    "    \n",
    "    p_test_pos = has_disease * 0.999 + (1 - has_disease) * 0.001\n",
    "    test_pos = pm.Bernoulli('test_pos', p_test_pos, observed=1)"
   ]
  },
  {
   "cell_type": "code",
   "execution_count": 10,
   "metadata": {
    "slideshow": {
     "slide_type": "subslide"
    }
   },
   "outputs": [
    {
     "name": "stderr",
     "output_type": "stream",
     "text": [
      "Assigned BinaryGibbsMetropolis to has_disease\n",
      "100%|██████████| 10500/10500 [00:02<00:00, 3895.41it/s]\n"
     ]
    }
   ],
   "source": [
    "with disease_model:\n",
    "    disease_trace = pm.sample(draws=10000, random_seed=SEED)"
   ]
  },
  {
   "cell_type": "code",
   "execution_count": 11,
   "metadata": {
    "slideshow": {
     "slide_type": "fragment"
    }
   },
   "outputs": [
    {
     "data": {
      "text/html": [
       "<div>\n",
       "<table border=\"1\" class=\"dataframe\">\n",
       "  <thead>\n",
       "    <tr style=\"text-align: right;\">\n",
       "      <th></th>\n",
       "      <th>has_disease</th>\n",
       "    </tr>\n",
       "  </thead>\n",
       "  <tbody>\n",
       "    <tr>\n",
       "      <th>0</th>\n",
       "      <td>0</td>\n",
       "    </tr>\n",
       "    <tr>\n",
       "      <th>1</th>\n",
       "      <td>0</td>\n",
       "    </tr>\n",
       "    <tr>\n",
       "      <th>2</th>\n",
       "      <td>0</td>\n",
       "    </tr>\n",
       "    <tr>\n",
       "      <th>3</th>\n",
       "      <td>0</td>\n",
       "    </tr>\n",
       "    <tr>\n",
       "      <th>4</th>\n",
       "      <td>0</td>\n",
       "    </tr>\n",
       "  </tbody>\n",
       "</table>\n",
       "</div>"
      ],
      "text/plain": [
       "   has_disease\n",
       "0            0\n",
       "1            0\n",
       "2            0\n",
       "3            0\n",
       "4            0"
      ]
     },
     "execution_count": 11,
     "metadata": {},
     "output_type": "execute_result"
    }
   ],
   "source": [
    "pm.trace_to_dataframe(disease_trace).head()"
   ]
  },
  {
   "cell_type": "code",
   "execution_count": 12,
   "metadata": {
    "slideshow": {
     "slide_type": "fragment"
    }
   },
   "outputs": [
    {
     "data": {
      "text/plain": [
       "0.0094000000000000004"
      ]
     },
     "execution_count": 12,
     "metadata": {},
     "output_type": "execute_result"
    }
   ],
   "source": [
    "disease_trace['has_disease'].mean()"
   ]
  },
  {
   "cell_type": "code",
   "execution_count": 13,
   "metadata": {
    "slideshow": {
     "slide_type": "-"
    }
   },
   "outputs": [
    {
     "data": {
      "text/plain": [
       "0.009891284975940117"
      ]
     },
     "execution_count": 13,
     "metadata": {},
     "output_type": "execute_result"
    }
   ],
   "source": [
    "0.999 * 1e-5 / (0.999 * 1e-5 + 0.001 * (1 - 1e-5))"
   ]
  },
  {
   "cell_type": "markdown",
   "metadata": {
    "slideshow": {
     "slide_type": "subslide"
    }
   },
   "source": [
    "### Probabilistic Programming"
   ]
  },
  {
   "cell_type": "markdown",
   "metadata": {
    "slideshow": {
     "slide_type": "fragment"
    }
   },
   "source": [
    "#### Data science &mdash; inference enables storytelling\n",
    "\n",
    "<center><img src=\"https://www.edwardtufte.com/tufte/graphics/minard_lg.gif\" width=\"800\">"
   ]
  },
  {
   "cell_type": "markdown",
   "metadata": {
    "slideshow": {
     "slide_type": "subslide"
    }
   },
   "source": [
    "#### Probabilistic programming &mdash; storytelling enables inference\n",
    "\n",
    "<center><img src=\"http://austinrochford.com/resources/talks/img/prob_prog_png.png\"></center>"
   ]
  },
  {
   "cell_type": "markdown",
   "metadata": {
    "slideshow": {
     "slide_type": "subslide"
    }
   },
   "source": [
    "#### The Monty Hall Paradox\n",
    "\n",
    "<center><img src='https://upload.wikimedia.org/wikipedia/commons/thumb/3/3f/Monty_open_door.svg/640px-Monty_open_door.svg.png'></center>"
   ]
  },
  {
   "cell_type": "markdown",
   "metadata": {
    "slideshow": {
     "slide_type": "subslide"
    }
   },
   "source": [
    "Initially, we have no information about which door the prize is behind."
   ]
  },
  {
   "cell_type": "code",
   "execution_count": 14,
   "metadata": {
    "collapsed": true,
    "slideshow": {
     "slide_type": "fragment"
    }
   },
   "outputs": [],
   "source": [
    "with pm.Model() as monty_model:\n",
    "    prize = pm.DiscreteUniform('prize', 0, 2)"
   ]
  },
  {
   "cell_type": "markdown",
   "metadata": {
    "slideshow": {
     "slide_type": "subslide"
    }
   },
   "source": [
    "If we choose door one:\n",
    "\n",
    "<table>\n",
    "    <tr>\n",
    "        <td></td>\n",
    "        <th colspan=\"3\"><center>Monty can open</center></th>\n",
    "    </tr>\n",
    "    <tr>\n",
    "        <th>Prize behind</th>\n",
    "        <td>Door 1</td>\n",
    "        <td>Door 2</td>\n",
    "        <td>Door 3</td>\n",
    "    </tr>\n",
    "    <tr>\n",
    "        <td>Door 1</td>\n",
    "        <td><font color=\"red\">No</font></td>\n",
    "        <td><font color=\"green\">Yes</font></td>\n",
    "        <td><font color=\"green\">Yes</font></td>\n",
    "    </tr>\n",
    "    <tr>\n",
    "        <td>Door 2</td>\n",
    "        <td><font color=\"red\">No</font></td>\n",
    "        <td><font color=\"red\">No</font></td>\n",
    "        <td><font color=\"green\">Yes</font></td>\n",
    "    </tr>\n",
    "    <tr>\n",
    "        <td>Door 2</td>\n",
    "        <td><font color=\"red\">No</font></td>\n",
    "        <td><font color=\"green\">Yes</font></td>\n",
    "        <td><font color=\"red\">No</font></td>\n",
    "    </tr>\n",
    "</table>"
   ]
  },
  {
   "cell_type": "code",
   "execution_count": 15,
   "metadata": {
    "collapsed": true,
    "slideshow": {
     "slide_type": "fragment"
    }
   },
   "outputs": [],
   "source": [
    "from theano import tensor as tt\n",
    "\n",
    "with monty_model:\n",
    "    p_open = pm.Deterministic('p_open',\n",
    "                              tt.switch(tt.eq(prize, 0),\n",
    "                                        # it is behind the first door\n",
    "                                        np.array([0., 0.5, 0.5]),\n",
    "                              tt.switch(tt.eq(prize, 1),\n",
    "                                        # it is behind the second door\n",
    "                                        np.array([0., 0., 1.]),\n",
    "                                        # it is behind the third door\n",
    "                                        np.array([0., 1., 0.]))))"
   ]
  },
  {
   "cell_type": "markdown",
   "metadata": {
    "slideshow": {
     "slide_type": "subslide"
    }
   },
   "source": [
    "Monty opened the third door, revealing a goat.\n",
    "\n",
    "<center><img src='https://upload.wikimedia.org/wikipedia/commons/thumb/3/3f/Monty_open_door.svg/640px-Monty_open_door.svg.png'></center>"
   ]
  },
  {
   "cell_type": "code",
   "execution_count": 16,
   "metadata": {
    "collapsed": true,
    "slideshow": {
     "slide_type": "fragment"
    }
   },
   "outputs": [],
   "source": [
    "with monty_model:\n",
    "    opened = pm.Categorical('opened', p_open, observed=2)"
   ]
  },
  {
   "cell_type": "markdown",
   "metadata": {
    "slideshow": {
     "slide_type": "subslide"
    }
   },
   "source": [
    "Should we switch our choice of door?"
   ]
  },
  {
   "cell_type": "code",
   "execution_count": 17,
   "metadata": {
    "slideshow": {
     "slide_type": "fragment"
    }
   },
   "outputs": [
    {
     "name": "stderr",
     "output_type": "stream",
     "text": [
      "Assigned Metropolis to prize\n",
      "100%|██████████| 1000/1000 [00:00<00:00, 4725.84it/s]\n"
     ]
    }
   ],
   "source": [
    "with monty_model:\n",
    "    monty_trace = pm.sample(random_seed=SEED)\n",
    "    \n",
    "monty_df = pm.trace_to_dataframe(monty_trace)"
   ]
  },
  {
   "cell_type": "code",
   "execution_count": 18,
   "metadata": {
    "slideshow": {
     "slide_type": "fragment"
    }
   },
   "outputs": [
    {
     "data": {
      "text/plain": [
       "0    1\n",
       "1    1\n",
       "2    1\n",
       "3    1\n",
       "4    1\n",
       "Name: prize, dtype: int64"
      ]
     },
     "execution_count": 18,
     "metadata": {},
     "output_type": "execute_result"
    }
   ],
   "source": [
    "monty_df.prize.head()"
   ]
  },
  {
   "cell_type": "code",
   "execution_count": 19,
   "metadata": {
    "scrolled": false,
    "slideshow": {
     "slide_type": "subslide"
    }
   },
   "outputs": [
    {
     "data": {
      "image/png": "[encoded data removed]",
      "text/plain": [
       "<matplotlib.figure.Figure at 0x7f66fcaab2e8>"
      ]
     },
     "metadata": {},
     "output_type": "display_data"
    }
   ],
   "source": [
    "ax = (monty_df.groupby('prize')\n",
    "              .size()\n",
    "              .div(monty_df.shape[0])\n",
    "              .plot(kind='bar'))\n",
    "\n",
    "ax.set_xlabel(\"Door\");\n",
    "ax.yaxis.set_major_formatter(pct_formatter);\n",
    "ax.set_ylabel(\"Probability of prize\");"
   ]
  },
  {
   "cell_type": "code",
   "execution_count": 20,
   "metadata": {
    "slideshow": {
     "slide_type": "skip"
    }
   },
   "outputs": [
    {
     "name": "stderr",
     "output_type": "stream",
     "text": [
      "[NbConvertApp] Converting notebook ./Open Source Bayesian Inference in Python with PyMC3.ipynb to slides\n",
      "[NbConvertApp] Writing 295969 bytes to ./os-bayes-pymc3-fosscon-2017.slides.html\n"
     ]
    }
   ],
   "source": [
    "%%bash\n",
    "jupyter nbconvert \\\n",
    "    --to=slides \\\n",
    "    --reveal-prefix=https://cdnjs.cloudflare.com/ajax/libs/reveal.js/3.2.0/ \\\n",
    "    --output=os-bayes-pymc3-fosscon-2017 \\\n",
    "    ./Open\\ Source\\ Bayesian\\ Inference\\ in\\ Python\\ with\\ PyMC3.ipynb"
   ]
  },
  {
   "cell_type": "code",
   "execution_count": null,
   "metadata": {
    "collapsed": true
   },
   "outputs": [],
   "source": []
  }
 ],
 "metadata": {
  "celltoolbar": "Slideshow",
  "kernelspec": {
   "display_name": "Python 3",
   "language": "python",
   "name": "python3"
  },
  "language_info": {
   "codemirror_mode": {
    "name": "ipython",
    "version": 3
   },
   "file_extension": ".py",
   "mimetype": "text/x-python",
   "name": "python",
   "nbconvert_exporter": "python",
   "pygments_lexer": "ipython3",
   "version": "3.6.1"
  },
  "widgets": {
   "state": {},
   "version": "1.1.2"
  }
 },
 "nbformat": 4,
 "nbformat_minor": 1
}